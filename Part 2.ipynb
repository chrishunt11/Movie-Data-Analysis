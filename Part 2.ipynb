{
 "cells": [
  {
   "cell_type": "markdown",
   "id": "4d2cc07e",
   "metadata": {},
   "source": [
    "# Project 3: Part 2"
   ]
  },
  {
   "cell_type": "markdown",
   "id": "bcf9125c",
   "metadata": {},
   "source": [
    "## Specifications - Financial Data"
   ]
  },
  {
   "cell_type": "markdown",
   "id": "ba29bad5",
   "metadata": {
    "heading_collapsed": true
   },
   "source": [
    "### Functions/Imports/Test"
   ]
  },
  {
   "cell_type": "markdown",
   "id": "7a132195",
   "metadata": {
    "heading_collapsed": true,
    "hidden": true
   },
   "source": [
    "##### Importing/checking info"
   ]
  },
  {
   "cell_type": "code",
   "execution_count": 1,
   "id": "78f10a0e",
   "metadata": {
    "hidden": true
   },
   "outputs": [
    {
     "data": {
      "text/plain": [
       "dict_keys(['client-id', 'api-key'])"
      ]
     },
     "execution_count": 1,
     "metadata": {},
     "output_type": "execute_result"
    }
   ],
   "source": [
    "import json\n",
    "with open('/Users/cjhun/.secret/tmdb_api.json', 'r') as f:\n",
    "    login = json.load(f)\n",
    "## Display the keys of the loaded dict\n",
    "login.keys()"
   ]
  },
  {
   "cell_type": "code",
   "execution_count": 2,
   "id": "28c1a947",
   "metadata": {
    "hidden": true
   },
   "outputs": [],
   "source": [
    "import tmdbsimple as tmdb\n",
    "tmdb.API_KEY =  login['api-key']"
   ]
  },
  {
   "cell_type": "code",
   "execution_count": 3,
   "id": "bb2fdead",
   "metadata": {
    "hidden": true
   },
   "outputs": [],
   "source": [
    "## make a movie object using the .Movies function from tmdb\n",
    "movie = tmdb.Movies(603)"
   ]
  },
  {
   "cell_type": "code",
   "execution_count": 4,
   "id": "1cb0c538",
   "metadata": {
    "hidden": true
   },
   "outputs": [
    {
     "data": {
      "text/plain": [
       "{'adult': False,\n",
       " 'backdrop_path': '/oMsxZEvz9a708d49b6UdZK1KAo5.jpg',\n",
       " 'belongs_to_collection': {'id': 2344,\n",
       "  'name': 'The Matrix Collection',\n",
       "  'poster_path': '/bV9qTVHTVf0gkW0j7p7M0ILD4pG.jpg',\n",
       "  'backdrop_path': '/bRm2DEgUiYciDw3myHuYFInD7la.jpg'},\n",
       " 'budget': 63000000,\n",
       " 'genres': [{'id': 28, 'name': 'Action'},\n",
       "  {'id': 878, 'name': 'Science Fiction'}],\n",
       " 'homepage': 'http://www.warnerbros.com/matrix',\n",
       " 'id': 603,\n",
       " 'imdb_id': 'tt0133093',\n",
       " 'original_language': 'en',\n",
       " 'original_title': 'The Matrix',\n",
       " 'overview': 'Set in the 22nd century, The Matrix tells the story of a computer hacker who joins a group of underground insurgents fighting the vast and powerful computers who now rule the earth.',\n",
       " 'popularity': 85.7,\n",
       " 'poster_path': '/f89U3ADr1oiB1s9GkdPOEpXUk5H.jpg',\n",
       " 'production_companies': [{'id': 79,\n",
       "   'logo_path': '/tpFpsqbleCzEE2p5EgvUq6ozfCA.png',\n",
       "   'name': 'Village Roadshow Pictures',\n",
       "   'origin_country': 'US'},\n",
       "  {'id': 372,\n",
       "   'logo_path': None,\n",
       "   'name': 'Groucho II Film Partnership',\n",
       "   'origin_country': ''},\n",
       "  {'id': 1885,\n",
       "   'logo_path': '/xlvoOZr4s1PygosrwZyolIFe5xs.png',\n",
       "   'name': 'Silver Pictures',\n",
       "   'origin_country': 'US'},\n",
       "  {'id': 174,\n",
       "   'logo_path': '/IuAlhI9eVC9Z8UQWOIDdWRKSEJ.png',\n",
       "   'name': 'Warner Bros. Pictures',\n",
       "   'origin_country': 'US'}],\n",
       " 'production_countries': [{'iso_3166_1': 'US',\n",
       "   'name': 'United States of America'}],\n",
       " 'release_date': '1999-03-30',\n",
       " 'revenue': 463517383,\n",
       " 'runtime': 136,\n",
       " 'spoken_languages': [{'english_name': 'English',\n",
       "   'iso_639_1': 'en',\n",
       "   'name': 'English'}],\n",
       " 'status': 'Released',\n",
       " 'tagline': 'Welcome to the Real World.',\n",
       " 'title': 'The Matrix',\n",
       " 'video': False,\n",
       " 'vote_average': 8.205,\n",
       " 'vote_count': 23725}"
      ]
     },
     "execution_count": 4,
     "metadata": {},
     "output_type": "execute_result"
    }
   ],
   "source": [
    "## movie objects have a .info dictionary \n",
    "info = movie.info()\n",
    "info"
   ]
  },
  {
   "cell_type": "code",
   "execution_count": 5,
   "id": "0621ffbd",
   "metadata": {
    "hidden": true
   },
   "outputs": [
    {
     "data": {
      "text/plain": [
       "63000000"
      ]
     },
     "execution_count": 5,
     "metadata": {},
     "output_type": "execute_result"
    }
   ],
   "source": [
    "# check for the budget\n",
    "info['budget']"
   ]
  },
  {
   "cell_type": "code",
   "execution_count": 6,
   "id": "986a6b0b",
   "metadata": {
    "hidden": true
   },
   "outputs": [
    {
     "data": {
      "text/plain": [
       "463517383"
      ]
     },
     "execution_count": 6,
     "metadata": {},
     "output_type": "execute_result"
    }
   ],
   "source": [
    "# check the revenue\n",
    "info['revenue']"
   ]
  },
  {
   "cell_type": "code",
   "execution_count": 7,
   "id": "5ce2bb0c",
   "metadata": {
    "hidden": true
   },
   "outputs": [
    {
     "data": {
      "text/plain": [
       "'tt0133093'"
      ]
     },
     "execution_count": 7,
     "metadata": {},
     "output_type": "execute_result"
    }
   ],
   "source": [
    "# check the id\n",
    "info['imdb_id']"
   ]
  },
  {
   "cell_type": "markdown",
   "id": "eaba6283",
   "metadata": {
    "heading_collapsed": true,
    "hidden": true
   },
   "source": [
    "##### Searching with IMDB_ID"
   ]
  },
  {
   "cell_type": "code",
   "execution_count": 8,
   "id": "c5fb107b",
   "metadata": {
    "hidden": true
   },
   "outputs": [
    {
     "data": {
      "text/plain": [
       "50000000"
      ]
     },
     "execution_count": 8,
     "metadata": {},
     "output_type": "execute_result"
    }
   ],
   "source": [
    "movie = tmdb.Movies('tt1361336')\n",
    "info = movie.info()\n",
    "info['budget']"
   ]
  },
  {
   "cell_type": "markdown",
   "id": "52d458bb",
   "metadata": {
    "heading_collapsed": true,
    "hidden": true
   },
   "source": [
    "##### Saving the Movie Certification/MPAA Rating"
   ]
  },
  {
   "cell_type": "code",
   "execution_count": 9,
   "id": "231b6c31",
   "metadata": {
    "hidden": true
   },
   "outputs": [
    {
     "name": "stdout",
     "output_type": "stream",
     "text": [
      "PG\n",
      "PG\n",
      "PG\n"
     ]
    }
   ],
   "source": [
    "# example from package README\n",
    "# source - https:github.com/celiao/tmdbsimple\n",
    "releases = movie.releases()\n",
    "for c in releases['countries']:\n",
    "    if c['iso_3166_1'] == 'US':\n",
    "        print(c['certification'])"
   ]
  },
  {
   "cell_type": "code",
   "execution_count": 10,
   "id": "36dba5b7",
   "metadata": {
    "hidden": true
   },
   "outputs": [],
   "source": [
    "# Get the movie object for the current id\n",
    "movie = tmdb.Movies('tt1361336')\n",
    "# save the .info .releases dictionaries\n",
    "info = movie.info()\n",
    "releases = movie.releases()\n",
    "# Loop through countries in releases\n",
    "for c in releases['countries']:\n",
    "    # if the country abbreviation==US\n",
    "    if c['iso_3166_1' ] =='US':\n",
    "        ## save a \"certification\" key in the info dict with the certification\n",
    "       info['certification'] = c['certification']"
   ]
  },
  {
   "cell_type": "markdown",
   "id": "726508f0",
   "metadata": {
    "heading_collapsed": true,
    "hidden": true
   },
   "source": [
    "##### Testing our Function"
   ]
  },
  {
   "cell_type": "code",
   "execution_count": 11,
   "id": "6951f798",
   "metadata": {
    "hidden": true
   },
   "outputs": [],
   "source": [
    "def get_movie_with_rating(movie_id):\n",
    "    \"\"\"Adapted from source = https://github.com/celiao/tmdbsimple\"\"\"\n",
    "    # Get the movie object for the current id\n",
    "    movie = tmdb.Movies(movie_id)\n",
    "    \n",
    "    # save the .info .releases dictionaries\n",
    "    info = movie.info()\n",
    "    \n",
    "    releases = movie.releases()\n",
    "    # loop through the countries in releases\n",
    "    for c in releases['countries']:\n",
    "        # if the country abbreviation == 'US'\n",
    "        if c['iso_3166_1'] == 'US':\n",
    "            # save a certification key in info with the certification\n",
    "            info['certification'] = c['certification']\n",
    "    return info"
   ]
  },
  {
   "cell_type": "code",
   "execution_count": 12,
   "id": "59c96d02",
   "metadata": {
    "hidden": true,
    "scrolled": true
   },
   "outputs": [],
   "source": [
    "test = get_movie_with_rating('tt0848228')"
   ]
  },
  {
   "cell_type": "markdown",
   "id": "f74ee6b3",
   "metadata": {
    "heading_collapsed": true,
    "hidden": true
   },
   "source": [
    "##### Looping thorough testing"
   ]
  },
  {
   "cell_type": "markdown",
   "id": "6320c5a8",
   "metadata": {
    "heading_collapsed": true,
    "hidden": true
   },
   "source": [
    "##### Defining Our Function"
   ]
  },
  {
   "cell_type": "code",
   "execution_count": 13,
   "id": "96e9d4f1",
   "metadata": {
    "hidden": true
   },
   "outputs": [
    {
     "data": {
      "text/html": [
       "<div>\n",
       "<style scoped>\n",
       "    .dataframe tbody tr th:only-of-type {\n",
       "        vertical-align: middle;\n",
       "    }\n",
       "\n",
       "    .dataframe tbody tr th {\n",
       "        vertical-align: top;\n",
       "    }\n",
       "\n",
       "    .dataframe thead th {\n",
       "        text-align: right;\n",
       "    }\n",
       "</style>\n",
       "<table border=\"1\" class=\"dataframe\">\n",
       "  <thead>\n",
       "    <tr style=\"text-align: right;\">\n",
       "      <th></th>\n",
       "      <th>adult</th>\n",
       "      <th>backdrop_path</th>\n",
       "      <th>belongs_to_collection</th>\n",
       "      <th>budget</th>\n",
       "      <th>genres</th>\n",
       "      <th>homepage</th>\n",
       "      <th>id</th>\n",
       "      <th>imdb_id</th>\n",
       "      <th>original_language</th>\n",
       "      <th>original_title</th>\n",
       "      <th>...</th>\n",
       "      <th>revenue</th>\n",
       "      <th>runtime</th>\n",
       "      <th>spoken_languages</th>\n",
       "      <th>status</th>\n",
       "      <th>tagline</th>\n",
       "      <th>title</th>\n",
       "      <th>video</th>\n",
       "      <th>vote_average</th>\n",
       "      <th>vote_count</th>\n",
       "      <th>certification</th>\n",
       "    </tr>\n",
       "  </thead>\n",
       "  <tbody>\n",
       "    <tr>\n",
       "      <th>0</th>\n",
       "      <td>False</td>\n",
       "      <td>/9BBTo63ANSmhC4e6r62OJFuK2GL.jpg</td>\n",
       "      <td>{'id': 86311, 'name': 'The Avengers Collection...</td>\n",
       "      <td>220000000</td>\n",
       "      <td>[{'id': 878, 'name': 'Science Fiction'}, {'id'...</td>\n",
       "      <td>https://www.marvel.com/movies/the-avengers</td>\n",
       "      <td>24428</td>\n",
       "      <td>tt0848228</td>\n",
       "      <td>en</td>\n",
       "      <td>The Avengers</td>\n",
       "      <td>...</td>\n",
       "      <td>1518815515</td>\n",
       "      <td>143</td>\n",
       "      <td>[{'english_name': 'English', 'iso_639_1': 'en'...</td>\n",
       "      <td>Released</td>\n",
       "      <td>Some assembly required.</td>\n",
       "      <td>The Avengers</td>\n",
       "      <td>False</td>\n",
       "      <td>7.70</td>\n",
       "      <td>29080</td>\n",
       "      <td>PG-13</td>\n",
       "    </tr>\n",
       "    <tr>\n",
       "      <th>1</th>\n",
       "      <td>False</td>\n",
       "      <td>/9BBTo63ANSmhC4e6r62OJFuK2GL.jpg</td>\n",
       "      <td>{'id': 86311, 'name': 'The Avengers Collection...</td>\n",
       "      <td>220000000</td>\n",
       "      <td>[{'id': 878, 'name': 'Science Fiction'}, {'id'...</td>\n",
       "      <td>https://www.marvel.com/movies/the-avengers</td>\n",
       "      <td>24428</td>\n",
       "      <td>tt0848228</td>\n",
       "      <td>en</td>\n",
       "      <td>The Avengers</td>\n",
       "      <td>...</td>\n",
       "      <td>1518815515</td>\n",
       "      <td>143</td>\n",
       "      <td>[{'english_name': 'English', 'iso_639_1': 'en'...</td>\n",
       "      <td>Released</td>\n",
       "      <td>Some assembly required.</td>\n",
       "      <td>The Avengers</td>\n",
       "      <td>False</td>\n",
       "      <td>7.70</td>\n",
       "      <td>29080</td>\n",
       "      <td>PG-13</td>\n",
       "    </tr>\n",
       "    <tr>\n",
       "      <th>2</th>\n",
       "      <td>False</td>\n",
       "      <td>/qom1SZSENdmHFNZBXbtJAU0WTlC.jpg</td>\n",
       "      <td>None</td>\n",
       "      <td>29000000</td>\n",
       "      <td>[{'id': 10749, 'name': 'Romance'}, {'id': 18, ...</td>\n",
       "      <td>http://www.newline.com/properties/notebookthe....</td>\n",
       "      <td>11036</td>\n",
       "      <td>tt0332280</td>\n",
       "      <td>en</td>\n",
       "      <td>The Notebook</td>\n",
       "      <td>...</td>\n",
       "      <td>115603229</td>\n",
       "      <td>123</td>\n",
       "      <td>[{'english_name': 'English', 'iso_639_1': 'en'...</td>\n",
       "      <td>Released</td>\n",
       "      <td>Behind every great love is a great story.</td>\n",
       "      <td>The Notebook</td>\n",
       "      <td>False</td>\n",
       "      <td>7.88</td>\n",
       "      <td>10549</td>\n",
       "      <td>PG-13</td>\n",
       "    </tr>\n",
       "  </tbody>\n",
       "</table>\n",
       "<p>3 rows × 26 columns</p>\n",
       "</div>"
      ],
      "text/plain": [
       "   adult                     backdrop_path  \\\n",
       "0  False  /9BBTo63ANSmhC4e6r62OJFuK2GL.jpg   \n",
       "1  False  /9BBTo63ANSmhC4e6r62OJFuK2GL.jpg   \n",
       "2  False  /qom1SZSENdmHFNZBXbtJAU0WTlC.jpg   \n",
       "\n",
       "                               belongs_to_collection     budget  \\\n",
       "0  {'id': 86311, 'name': 'The Avengers Collection...  220000000   \n",
       "1  {'id': 86311, 'name': 'The Avengers Collection...  220000000   \n",
       "2                                               None   29000000   \n",
       "\n",
       "                                              genres  \\\n",
       "0  [{'id': 878, 'name': 'Science Fiction'}, {'id'...   \n",
       "1  [{'id': 878, 'name': 'Science Fiction'}, {'id'...   \n",
       "2  [{'id': 10749, 'name': 'Romance'}, {'id': 18, ...   \n",
       "\n",
       "                                            homepage     id    imdb_id  \\\n",
       "0         https://www.marvel.com/movies/the-avengers  24428  tt0848228   \n",
       "1         https://www.marvel.com/movies/the-avengers  24428  tt0848228   \n",
       "2  http://www.newline.com/properties/notebookthe....  11036  tt0332280   \n",
       "\n",
       "  original_language original_title  ...     revenue  runtime  \\\n",
       "0                en   The Avengers  ...  1518815515      143   \n",
       "1                en   The Avengers  ...  1518815515      143   \n",
       "2                en   The Notebook  ...   115603229      123   \n",
       "\n",
       "                                    spoken_languages    status  \\\n",
       "0  [{'english_name': 'English', 'iso_639_1': 'en'...  Released   \n",
       "1  [{'english_name': 'English', 'iso_639_1': 'en'...  Released   \n",
       "2  [{'english_name': 'English', 'iso_639_1': 'en'...  Released   \n",
       "\n",
       "                                     tagline         title  video  \\\n",
       "0                    Some assembly required.  The Avengers  False   \n",
       "1                    Some assembly required.  The Avengers  False   \n",
       "2  Behind every great love is a great story.  The Notebook  False   \n",
       "\n",
       "   vote_average vote_count certification  \n",
       "0          7.70      29080         PG-13  \n",
       "1          7.70      29080         PG-13  \n",
       "2          7.88      10549         PG-13  \n",
       "\n",
       "[3 rows x 26 columns]"
      ]
     },
     "execution_count": 13,
     "metadata": {},
     "output_type": "execute_result"
    }
   ],
   "source": [
    "## testing our function by looping through a list of ids\n",
    "import pandas as pd\n",
    "test_ids = [\"tt0848228\", \"tt0115937\",\"tt0848228\",\"tt0332280\"]\n",
    "results = []\n",
    "for movie_id in test_ids:\n",
    "    # implementing a try and pass option for those movies that don't exist in the db \n",
    "    try:\n",
    "        movie_info = get_movie_with_rating(movie_id)\n",
    "        results.append(movie_info)\n",
    "        \n",
    "    except: \n",
    "        pass\n",
    "    \n",
    "pd.DataFrame(results)"
   ]
  },
  {
   "cell_type": "code",
   "execution_count": 14,
   "id": "12b1a489",
   "metadata": {
    "hidden": true
   },
   "outputs": [],
   "source": [
    "def get_movie_with_rating(movie_id):\n",
    "    \"\"\"Adapted from source = https://github.com/celiao/tmdbsimple\"\"\"\n",
    "    # Get the movie object for the current id\n",
    "    movie = tmdb.Movies(movie_id)\n",
    "    \n",
    "    # save the .info .releases dictionaries\n",
    "    info = movie.info()\n",
    "    \n",
    "    releases = movie.releases()\n",
    "    # loop through the countries in releases\n",
    "    for c in releases['countries']:\n",
    "        # if the country abbreviation == 'US'\n",
    "        if c['iso_3166_1'] == 'US':\n",
    "            # save a certification key in info with the certification\n",
    "            info['certification'] = c['certification']\n",
    "    return info"
   ]
  },
  {
   "cell_type": "markdown",
   "id": "1df8d1bc",
   "metadata": {
    "hidden": true
   },
   "source": [
    "Saving the error message in a list"
   ]
  },
  {
   "cell_type": "code",
   "execution_count": 15,
   "id": "d875cda7",
   "metadata": {
    "hidden": true
   },
   "outputs": [
    {
     "data": {
      "text/html": [
       "<div>\n",
       "<style scoped>\n",
       "    .dataframe tbody tr th:only-of-type {\n",
       "        vertical-align: middle;\n",
       "    }\n",
       "\n",
       "    .dataframe tbody tr th {\n",
       "        vertical-align: top;\n",
       "    }\n",
       "\n",
       "    .dataframe thead th {\n",
       "        text-align: right;\n",
       "    }\n",
       "</style>\n",
       "<table border=\"1\" class=\"dataframe\">\n",
       "  <thead>\n",
       "    <tr style=\"text-align: right;\">\n",
       "      <th></th>\n",
       "      <th>adult</th>\n",
       "      <th>backdrop_path</th>\n",
       "      <th>belongs_to_collection</th>\n",
       "      <th>budget</th>\n",
       "      <th>genres</th>\n",
       "      <th>homepage</th>\n",
       "      <th>id</th>\n",
       "      <th>imdb_id</th>\n",
       "      <th>original_language</th>\n",
       "      <th>original_title</th>\n",
       "      <th>...</th>\n",
       "      <th>revenue</th>\n",
       "      <th>runtime</th>\n",
       "      <th>spoken_languages</th>\n",
       "      <th>status</th>\n",
       "      <th>tagline</th>\n",
       "      <th>title</th>\n",
       "      <th>video</th>\n",
       "      <th>vote_average</th>\n",
       "      <th>vote_count</th>\n",
       "      <th>certification</th>\n",
       "    </tr>\n",
       "  </thead>\n",
       "  <tbody>\n",
       "    <tr>\n",
       "      <th>0</th>\n",
       "      <td>False</td>\n",
       "      <td>/9BBTo63ANSmhC4e6r62OJFuK2GL.jpg</td>\n",
       "      <td>{'id': 86311, 'name': 'The Avengers Collection...</td>\n",
       "      <td>220000000</td>\n",
       "      <td>[{'id': 878, 'name': 'Science Fiction'}, {'id'...</td>\n",
       "      <td>https://www.marvel.com/movies/the-avengers</td>\n",
       "      <td>24428</td>\n",
       "      <td>tt0848228</td>\n",
       "      <td>en</td>\n",
       "      <td>The Avengers</td>\n",
       "      <td>...</td>\n",
       "      <td>1518815515</td>\n",
       "      <td>143</td>\n",
       "      <td>[{'english_name': 'English', 'iso_639_1': 'en'...</td>\n",
       "      <td>Released</td>\n",
       "      <td>Some assembly required.</td>\n",
       "      <td>The Avengers</td>\n",
       "      <td>False</td>\n",
       "      <td>7.70</td>\n",
       "      <td>29080</td>\n",
       "      <td>PG-13</td>\n",
       "    </tr>\n",
       "    <tr>\n",
       "      <th>1</th>\n",
       "      <td>False</td>\n",
       "      <td>/9BBTo63ANSmhC4e6r62OJFuK2GL.jpg</td>\n",
       "      <td>{'id': 86311, 'name': 'The Avengers Collection...</td>\n",
       "      <td>220000000</td>\n",
       "      <td>[{'id': 878, 'name': 'Science Fiction'}, {'id'...</td>\n",
       "      <td>https://www.marvel.com/movies/the-avengers</td>\n",
       "      <td>24428</td>\n",
       "      <td>tt0848228</td>\n",
       "      <td>en</td>\n",
       "      <td>The Avengers</td>\n",
       "      <td>...</td>\n",
       "      <td>1518815515</td>\n",
       "      <td>143</td>\n",
       "      <td>[{'english_name': 'English', 'iso_639_1': 'en'...</td>\n",
       "      <td>Released</td>\n",
       "      <td>Some assembly required.</td>\n",
       "      <td>The Avengers</td>\n",
       "      <td>False</td>\n",
       "      <td>7.70</td>\n",
       "      <td>29080</td>\n",
       "      <td>PG-13</td>\n",
       "    </tr>\n",
       "    <tr>\n",
       "      <th>2</th>\n",
       "      <td>False</td>\n",
       "      <td>/qom1SZSENdmHFNZBXbtJAU0WTlC.jpg</td>\n",
       "      <td>None</td>\n",
       "      <td>29000000</td>\n",
       "      <td>[{'id': 10749, 'name': 'Romance'}, {'id': 18, ...</td>\n",
       "      <td>http://www.newline.com/properties/notebookthe....</td>\n",
       "      <td>11036</td>\n",
       "      <td>tt0332280</td>\n",
       "      <td>en</td>\n",
       "      <td>The Notebook</td>\n",
       "      <td>...</td>\n",
       "      <td>115603229</td>\n",
       "      <td>123</td>\n",
       "      <td>[{'english_name': 'English', 'iso_639_1': 'en'...</td>\n",
       "      <td>Released</td>\n",
       "      <td>Behind every great love is a great story.</td>\n",
       "      <td>The Notebook</td>\n",
       "      <td>False</td>\n",
       "      <td>7.88</td>\n",
       "      <td>10549</td>\n",
       "      <td>PG-13</td>\n",
       "    </tr>\n",
       "  </tbody>\n",
       "</table>\n",
       "<p>3 rows × 26 columns</p>\n",
       "</div>"
      ],
      "text/plain": [
       "   adult                     backdrop_path  \\\n",
       "0  False  /9BBTo63ANSmhC4e6r62OJFuK2GL.jpg   \n",
       "1  False  /9BBTo63ANSmhC4e6r62OJFuK2GL.jpg   \n",
       "2  False  /qom1SZSENdmHFNZBXbtJAU0WTlC.jpg   \n",
       "\n",
       "                               belongs_to_collection     budget  \\\n",
       "0  {'id': 86311, 'name': 'The Avengers Collection...  220000000   \n",
       "1  {'id': 86311, 'name': 'The Avengers Collection...  220000000   \n",
       "2                                               None   29000000   \n",
       "\n",
       "                                              genres  \\\n",
       "0  [{'id': 878, 'name': 'Science Fiction'}, {'id'...   \n",
       "1  [{'id': 878, 'name': 'Science Fiction'}, {'id'...   \n",
       "2  [{'id': 10749, 'name': 'Romance'}, {'id': 18, ...   \n",
       "\n",
       "                                            homepage     id    imdb_id  \\\n",
       "0         https://www.marvel.com/movies/the-avengers  24428  tt0848228   \n",
       "1         https://www.marvel.com/movies/the-avengers  24428  tt0848228   \n",
       "2  http://www.newline.com/properties/notebookthe....  11036  tt0332280   \n",
       "\n",
       "  original_language original_title  ...     revenue  runtime  \\\n",
       "0                en   The Avengers  ...  1518815515      143   \n",
       "1                en   The Avengers  ...  1518815515      143   \n",
       "2                en   The Notebook  ...   115603229      123   \n",
       "\n",
       "                                    spoken_languages    status  \\\n",
       "0  [{'english_name': 'English', 'iso_639_1': 'en'...  Released   \n",
       "1  [{'english_name': 'English', 'iso_639_1': 'en'...  Released   \n",
       "2  [{'english_name': 'English', 'iso_639_1': 'en'...  Released   \n",
       "\n",
       "                                     tagline         title  video  \\\n",
       "0                    Some assembly required.  The Avengers  False   \n",
       "1                    Some assembly required.  The Avengers  False   \n",
       "2  Behind every great love is a great story.  The Notebook  False   \n",
       "\n",
       "   vote_average vote_count certification  \n",
       "0          7.70      29080         PG-13  \n",
       "1          7.70      29080         PG-13  \n",
       "2          7.88      10549         PG-13  \n",
       "\n",
       "[3 rows x 26 columns]"
      ]
     },
     "execution_count": 15,
     "metadata": {},
     "output_type": "execute_result"
    }
   ],
   "source": [
    "## testing our function by looping through a list of ids\n",
    "import pandas as pd\n",
    "test_ids = [\"tt0848228\", \"tt0115937\",\"tt0848228\",\"tt0332280\"]\n",
    "results = []\n",
    "errors = []\n",
    "for movie_id in test_ids:\n",
    "    \n",
    "    try:\n",
    "        movie_info = get_movie_with_rating(movie_id)\n",
    "        results.append(movie_info)\n",
    "        \n",
    "    except Exception as e: \n",
    "        errors.append([movie_id, e])\n",
    "    \n",
    "pd.DataFrame(results)"
   ]
  },
  {
   "cell_type": "code",
   "execution_count": 16,
   "id": "5fedb23f",
   "metadata": {
    "hidden": true
   },
   "outputs": [
    {
     "name": "stdout",
     "output_type": "stream",
     "text": [
      "- Number of errors: 1\n"
     ]
    },
    {
     "data": {
      "text/plain": [
       "[['tt0115937',\n",
       "  requests.exceptions.HTTPError('404 Client Error: Not Found for url: https://api.themoviedb.org/3/movie/tt0115937?api_key=bafdcebd08fde9b6ccdab643bc7c7d75')]]"
      ]
     },
     "execution_count": 16,
     "metadata": {},
     "output_type": "execute_result"
    }
   ],
   "source": [
    "# Checking for the number of errors\n",
    "print(f\"- Number of errors: {len(errors)}\")\n",
    "errors"
   ]
  },
  {
   "cell_type": "code",
   "execution_count": 17,
   "id": "8ea1bf46",
   "metadata": {
    "hidden": true
   },
   "outputs": [
    {
     "data": {
      "text/plain": [
       "['.ipynb_checkpoints',\n",
       " 'ratings_filtered.csv.gz',\n",
       " 'title-akas-us-only.csv',\n",
       " 'title.basics.tsv.gz',\n",
       " 'title.ratings.tsv.gz',\n",
       " 'title_basics.csv.gz',\n",
       " 'title_basics_filtered.csv.gz']"
      ]
     },
     "execution_count": 17,
     "metadata": {},
     "output_type": "execute_result"
    }
   ],
   "source": [
    "# Standard Imports\n",
    "import numpy as np\n",
    "import pandas as pd\n",
    "import matplotlib.pyplot as plt\n",
    "import seaborn as sns\n",
    "# Additional Imports\n",
    "import os, json, math, time\n",
    "import tmdbsimple as tmdb \n",
    "from tqdm.notebook import tqdm_notebook\n",
    "FOLDER = \"Data/\"\n",
    "os.makedirs(FOLDER, exist_ok=True)\n",
    "os.listdir(FOLDER)"
   ]
  },
  {
   "cell_type": "markdown",
   "id": "5fbf19d7",
   "metadata": {
    "heading_collapsed": true,
    "hidden": true
   },
   "source": [
    "##### Functions"
   ]
  },
  {
   "cell_type": "code",
   "execution_count": 18,
   "id": "ba44be20",
   "metadata": {
    "hidden": true
   },
   "outputs": [],
   "source": [
    "def get_movie_with_rating(movie_id):\n",
    "    \"\"\"Adapted from source = https://github.com/celiao/tmdbsimple\"\"\"\n",
    "    # Get the movie object for the current id\n",
    "    movie = tmdb.Movies(movie_id)\n",
    "    \n",
    "    # save the .info .releases dictionaries\n",
    "    info = movie.info()\n",
    "    \n",
    "    releases = movie.releases()\n",
    "    # loop through the countries in releases\n",
    "    for c in releases['countries']:\n",
    "        # if the country abbreviation == 'US'\n",
    "        if c['iso_3166_1'] == 'US':\n",
    "            # save a certification key in info with the certification\n",
    "            info['certification'] = c['certification']\n",
    "    return info"
   ]
  },
  {
   "cell_type": "code",
   "execution_count": 19,
   "id": "f47dd1ba",
   "metadata": {
    "hidden": true
   },
   "outputs": [],
   "source": [
    "def write_json(new_data, filename): \n",
    "    \"\"\"Appends a list of records (new_data) to a json file (filename). \n",
    "    Adapted from: https://www.geeksforgeeks.org/append-to-json-file-using-python/\"\"\"  \n",
    "    \n",
    "    with open(filename,'r+') as file:\n",
    "        # First we load existing data into a dict.\n",
    "        file_data = json.load(file)\n",
    "        ## Choose extend or append\n",
    "        if (type(new_data) == list) & (type(file_data) == list):\n",
    "            file_data.extend(new_data)\n",
    "        else:\n",
    "             file_data.append(new_data)\n",
    "        # Sets file's current position at offset.\n",
    "        file.seek(0)\n",
    "        # convert back to json.\n",
    "        json.dump(file_data, file)"
   ]
  },
  {
   "cell_type": "code",
   "execution_count": 20,
   "id": "ee4f91fa",
   "metadata": {
    "hidden": true
   },
   "outputs": [],
   "source": [
    "# Define a function to add results to the DataFrame\n",
    "def add_results_to_dataframe(movie_info, imdb_id):\n",
    "    budget = movie_info.get('budget', np.nan)\n",
    "    revenue = movie_info.get('revenue', np.nan)\n",
    "    certification = movie_info.get('certification', np.nan)\n",
    "    \n",
    "    results_df.loc[len(results_df)] = [imdb_id, budget, revenue, certification]"
   ]
  },
  {
   "cell_type": "code",
   "execution_count": 21,
   "id": "907b26d9",
   "metadata": {
    "hidden": true
   },
   "outputs": [],
   "source": [
    "# Load in the dataframe from project part 1 as basics:\n",
    "basics = pd.read_csv('Data/title_basics_filtered.csv.gz')"
   ]
  },
  {
   "cell_type": "code",
   "execution_count": 22,
   "id": "05ba7798",
   "metadata": {
    "hidden": true
   },
   "outputs": [],
   "source": [
    "# Define a list of the Years to Extract from the API\n",
    "YEARS_TO_GET = [2000,2001]"
   ]
  },
  {
   "cell_type": "code",
   "execution_count": 23,
   "id": "59ad26cf",
   "metadata": {
    "hidden": true
   },
   "outputs": [],
   "source": [
    "# defining an error list \n",
    "errors = [ ]"
   ]
  },
  {
   "cell_type": "code",
   "execution_count": 24,
   "id": "79eb04a7",
   "metadata": {
    "hidden": true
   },
   "outputs": [],
   "source": [
    "# Standard Imports\n",
    "import numpy as np\n",
    "import pandas as pd\n",
    "import os\n",
    "import json\n",
    "import math\n",
    "import time\n",
    "import tmdbsimple as tmdb\n",
    "from tqdm.notebook import tqdm_notebook\n",
    "\n",
    "# Set up the API key\n",
    "with open('/Users/cjhun/.secret/tmdb_api.json', 'r') as f:\n",
    "    login = json.load(f)\n",
    "tmdb.API_KEY = login['api-key']\n",
    "\n",
    "# Function to get movie details with budget, revenue, and certification\n",
    "def get_movie_with_rating(movie_id):\n",
    "    \"\"\"Adapted from source: https://github.com/celiao/tmdbsimple\"\"\"\n",
    "    # Get the movie object for the current id\n",
    "    movie = tmdb.Movies(movie_id)\n",
    "    \n",
    "    # save the .info .releases dictionaries\n",
    "    info = movie.info()\n",
    "    \n",
    "    releases = movie.releases()\n",
    "    \n",
    "    # Loop through countries in releases\n",
    "    for c in releases['countries']:\n",
    "        # If the country abbreviation == 'US'\n",
    "        if c['iso_3166_1'] == 'US':\n",
    "            # Save a \"certification\" key in info with the certification\n",
    "            info['certification'] = c['certification']\n",
    "    \n",
    "    return info\n",
    "\n",
    "# Create a folder to store data\n",
    "FOLDER = \"Data/\"\n",
    "os.makedirs(FOLDER, exist_ok=True)\n",
    "\n",
    "# Load in the dataframe from project part 1 as basics\n",
    "basics = pd.read_csv('Data/title_basics_filtered.csv.gz')\n",
    "\n",
    "# Define a list of the Years to Extract from the API\n",
    "YEARS_TO_GET = [2000, 2001]\n",
    "\n",
    "# Initialize a DataFrame to store the results\n",
    "results_df = pd.DataFrame(columns=['imdb_id', 'budget', 'revenue', 'certification'])"
   ]
  },
  {
   "cell_type": "markdown",
   "id": "bd31afd3",
   "metadata": {},
   "source": [
    "### Loops"
   ]
  },
  {
   "cell_type": "code",
   "execution_count": 25,
   "id": "a80380d5",
   "metadata": {
    "scrolled": true
   },
   "outputs": [
    {
     "name": "stdout",
     "output_type": "stream",
     "text": [
      "Movie ID: tt0848228\n",
      "{'adult': False, 'backdrop_path': '/9BBTo63ANSmhC4e6r62OJFuK2GL.jpg', 'belongs_to_collection': {'id': 86311, 'name': 'The Avengers Collection', 'poster_path': '/yFSIUVTCvgYrpalUktulvk3Gi5Y.jpg', 'backdrop_path': '/zuW6fOiusv4X9nnW3paHGfXcSll.jpg'}, 'budget': 220000000, 'genres': [{'id': 878, 'name': 'Science Fiction'}, {'id': 28, 'name': 'Action'}, {'id': 12, 'name': 'Adventure'}], 'homepage': 'https://www.marvel.com/movies/the-avengers', 'id': 24428, 'imdb_id': 'tt0848228', 'original_language': 'en', 'original_title': 'The Avengers', 'overview': 'When an unexpected enemy emerges and threatens global safety and security, Nick Fury, director of the international peacekeeping agency known as S.H.I.E.L.D., finds himself in need of a team to pull the world back from the brink of disaster. Spanning the globe, a daring recruitment effort begins!', 'popularity': 115.39, 'poster_path': '/RYMX2wcKCBAr24UyPD7xwmjaTn.jpg', 'production_companies': [{'id': 420, 'logo_path': '/hUzeosd33nzE5MCNsZxCGEKTXaQ.png', 'name': 'Marvel Studios', 'origin_country': 'US'}], 'production_countries': [{'iso_3166_1': 'US', 'name': 'United States of America'}], 'release_date': '2012-04-25', 'revenue': 1518815515, 'runtime': 143, 'spoken_languages': [{'english_name': 'English', 'iso_639_1': 'en', 'name': 'English'}, {'english_name': 'Hindi', 'iso_639_1': 'hi', 'name': 'हिन्दी'}, {'english_name': 'Russian', 'iso_639_1': 'ru', 'name': 'Pусский'}], 'status': 'Released', 'tagline': 'Some assembly required.', 'title': 'The Avengers', 'video': False, 'vote_average': 7.7, 'vote_count': 29080, 'certification': 'PG-13'}\n",
      "Movie ID: tt0332280\n",
      "{'adult': False, 'backdrop_path': '/qom1SZSENdmHFNZBXbtJAU0WTlC.jpg', 'belongs_to_collection': None, 'budget': 29000000, 'genres': [{'id': 10749, 'name': 'Romance'}, {'id': 18, 'name': 'Drama'}], 'homepage': 'http://www.newline.com/properties/notebookthe.html', 'id': 11036, 'imdb_id': 'tt0332280', 'original_language': 'en', 'original_title': 'The Notebook', 'overview': \"An epic love story centered around an older man who reads aloud to a woman with Alzheimer's. From a faded notebook, the old man's words bring to life the story about a couple who is separated by World War II, and is then passionately reunited, seven years later, after they have taken different paths.\", 'popularity': 51.33, 'poster_path': '/rNzQyW4f8B8cQeg7Dgj3n6eT5k9.jpg', 'production_companies': [{'id': 12, 'logo_path': '/mevhneWSqbjU22D1MXNd4H9x0r0.png', 'name': 'New Line Cinema', 'origin_country': 'US'}, {'id': 1565, 'logo_path': None, 'name': 'Avery Pix', 'origin_country': 'US'}, {'id': 2605, 'logo_path': None, 'name': 'Gran Via Productions', 'origin_country': 'US'}], 'production_countries': [{'iso_3166_1': 'US', 'name': 'United States of America'}], 'release_date': '2004-06-25', 'revenue': 115603229, 'runtime': 123, 'spoken_languages': [{'english_name': 'English', 'iso_639_1': 'en', 'name': 'English'}], 'status': 'Released', 'tagline': 'Behind every great love is a great story.', 'title': 'The Notebook', 'video': False, 'vote_average': 7.88, 'vote_count': 10549, 'certification': 'PG-13'}\n"
     ]
    },
    {
     "data": {
      "application/vnd.jupyter.widget-view+json": {
       "model_id": "abd97954319042efbc41b6664e0c6919",
       "version_major": 2,
       "version_minor": 0
      },
      "text/plain": [
       "YEARS:   0%|          | 0/2 [00:00<?, ?it/s]"
      ]
     },
     "metadata": {},
     "output_type": "display_data"
    },
    {
     "data": {
      "application/vnd.jupyter.widget-view+json": {
       "model_id": "9f56d5a0785f45fda4afa5692dd9ad61",
       "version_major": 2,
       "version_minor": 0
      },
      "text/plain": [
       "Movies from 2000:   0%|          | 0/1458 [00:00<?, ?it/s]"
      ]
     },
     "metadata": {},
     "output_type": "display_data"
    },
    {
     "data": {
      "application/vnd.jupyter.widget-view+json": {
       "model_id": "1a1d5ca4161c4c83b604e2d9ac9f2cfe",
       "version_major": 2,
       "version_minor": 0
      },
      "text/plain": [
       "Movies from 2001:   0%|          | 0/1576 [00:00<?, ?it/s]"
      ]
     },
     "metadata": {},
     "output_type": "display_data"
    }
   ],
   "source": [
    "# Test the API function with provided movie IDs\n",
    "test_movie_ids = [\"tt0848228\", \"tt0332280\"]\n",
    "for movie_id in test_movie_ids:\n",
    "    try:\n",
    "        test_info = get_movie_with_rating(movie_id)\n",
    "        print(f\"Movie ID: {movie_id}\")\n",
    "        print(test_info)\n",
    "    except Exception as e:\n",
    "        print(f\"Error for Movie ID {movie_id}: {e}\")\n",
    "\n",
    "# Loop through the years\n",
    "for YEAR in tqdm_notebook(YEARS_TO_GET, desc='YEARS', position=0):\n",
    "    # Define the JSON file to store results for the year\n",
    "    JSON_FILE = f'{FOLDER}tmdb_api_results_{YEAR}.json'\n",
    "    # Check if the file exists\n",
    "    file_exists = os.path.isfile(JSON_FILE)\n",
    "    \n",
    "    # If it does not exist, create it with an empty dict\n",
    "    if file_exists == False:\n",
    "        with open(JSON_FILE, 'w') as f:\n",
    "            json.dump([{'imdb_id': 0}], f)\n",
    "    \n",
    "    # Save movies for the current year as the current DataFrame\n",
    "    df = basics.loc[basics['startYear'] == YEAR].copy()\n",
    "    \n",
    "    # Save movie IDs to a list\n",
    "    movie_ids = df['tconst'].copy()\n",
    "    \n",
    "    # Load existing data from JSON into a DataFrame called 'previous_df'\n",
    "    previous_df = pd.read_json(JSON_FILE)\n",
    "    \n",
    "    # Filter out any IDs that are already in the JSON_FILE\n",
    "    movie_ids_to_get = movie_ids[~movie_ids.isin(previous_df['imdb_id'])]\n",
    "    \n",
    "    # Get movie details for each movie ID\n",
    "    for movie_id in tqdm_notebook(movie_ids_to_get, desc=f'Movies from {YEAR}', position=1, leave=True):\n",
    "        try:\n",
    "            temp = get_movie_with_rating(movie_id)\n",
    "            add_results_to_dataframe(temp, movie_id)  # Add results to DataFrame\n",
    "            write_json(temp, JSON_FILE)\n",
    "            time.sleep(0.02)\n",
    "        except Exception as e:\n",
    "            continue\n",
    "\n",
    "    # Save the results DataFrame to a CSV file for the current year\n",
    "    results_df.to_csv(f\"{FOLDER}tmdb_results_{YEAR}.csv.gz\", compression=\"gzip\", index=False, encoding='utf-8')\n",
    "\n",
    "    \n",
    "    # Clear the results DataFrame for the next year\n",
    "    results_df = pd.DataFrame(columns=['imdb_id', 'budget', 'revenue', 'certification'])\n"
   ]
  },
  {
   "cell_type": "markdown",
   "id": "70a904eb",
   "metadata": {},
   "source": [
    "## Exploratory Data Analysis"
   ]
  },
  {
   "cell_type": "markdown",
   "id": "4f0aef5d",
   "metadata": {},
   "source": [
    "#### Calculations"
   ]
  },
  {
   "cell_type": "code",
   "execution_count": 26,
   "id": "d9f6c0ab",
   "metadata": {
    "scrolled": false
   },
   "outputs": [
    {
     "name": "stdout",
     "output_type": "stream",
     "text": [
      "Number of movies with valid financial information: 644\n",
      "\n",
      "Number of movies in each certification category:\n",
      "R        231\n",
      "PG-13    131\n",
      "PG        35\n",
      "NR        20\n",
      "G         15\n",
      "Name: certification, dtype: int64\n",
      "\n",
      "Average revenue per certification category:\n",
      "certification\n",
      "G        1.173648e+08\n",
      "NR       1.766105e+07\n",
      "PG       1.106791e+08\n",
      "PG-13    9.928786e+07\n",
      "R        3.002185e+07\n",
      "Name: revenue, dtype: float64\n",
      "\n",
      "Average budget per certification category:\n",
      "certification\n",
      "G        3.813333e+07\n",
      "NR       1.014175e+07\n",
      "PG       4.482849e+07\n",
      "PG-13    4.299357e+07\n",
      "R        1.875673e+07\n",
      "Name: budget, dtype: float64\n"
     ]
    }
   ],
   "source": [
    "# Concatenate the data from all years into one DataFrame\n",
    "concatenated_df = pd.concat([pd.read_csv(f\"{FOLDER}tmdb_results_{YEAR}.csv.gz\") for YEAR in YEARS_TO_GET], ignore_index=True)\n",
    "\n",
    "#Check how many movies had at least some valid financial information (values > 0 for budget OR revenue)\n",
    "valid_financial_info_movies = concatenated_df[(concatenated_df['budget'] > 0) | (concatenated_df['revenue'] > 0)]\n",
    "num_valid_financial_info_movies = len(valid_financial_info_movies)\n",
    "print(f\"Number of movies with valid financial information: {num_valid_financial_info_movies}\")\n",
    "\n",
    "# Exclude movies with 0's for budget AND revenue from the remaining visualizations\n",
    "valid_budget_revenue_movies = concatenated_df[(concatenated_df['budget'] > 0) | (concatenated_df['revenue'] > 0)]\n",
    "\n",
    "# Count the number of movies in each certification category (G/PG/PG-13/R)\n",
    "certification_counts = valid_budget_revenue_movies['certification'].value_counts()\n",
    "print(\"\\nNumber of movies in each certification category:\")\n",
    "print(certification_counts)\n",
    "\n",
    "# Calculate the average revenue and budget per certification category\n",
    "average_revenue_per_certification = valid_budget_revenue_movies.groupby('certification')['revenue'].mean()\n",
    "average_budget_per_certification = valid_budget_revenue_movies.groupby('certification')['budget'].mean()\n",
    "\n",
    "print(\"\\nAverage revenue per certification category:\")\n",
    "print(average_revenue_per_certification)\n",
    "\n",
    "print(\"\\nAverage budget per certification category:\")\n",
    "print(average_budget_per_certification)"
   ]
  },
  {
   "cell_type": "markdown",
   "id": "cd29dbe4",
   "metadata": {
    "heading_collapsed": true
   },
   "source": [
    "#### Visuals"
   ]
  },
  {
   "cell_type": "code",
   "execution_count": 27,
   "id": "2eb10948",
   "metadata": {
    "hidden": true
   },
   "outputs": [
    {
     "data": {
      "image/png": "[encoded data removed]",
      "text/plain": [
       "<Figure size 1000x600 with 1 Axes>"
      ]
     },
     "metadata": {},
     "output_type": "display_data"
    }
   ],
   "source": [
    "import matplotlib.pyplot as plt\n",
    "import seaborn as sns\n",
    "\n",
    "# Count the number of movies in each certification category\n",
    "certification_counts = valid_budget_revenue_movies['certification'].value_counts()\n",
    "\n",
    "# Create a bar plot with custom style\n",
    "plt.figure(figsize=(10, 6))\n",
    "sns.set_style(\"whitegrid\")  # Apply a white grid background\n",
    "plot = sns.barplot(x=certification_counts.index, y=certification_counts.values, palette='viridis')\n",
    "\n",
    "# Add annotations (labels) to the bars\n",
    "for p in plot.patches:\n",
    "    plot.annotate(f'{p.get_height()}', (p.get_x() + p.get_width() / 2., p.get_height()),\n",
    "                  ha='center', va='center', fontsize=12, color='black', xytext=(0, 10),\n",
    "                  textcoords='offset points')\n",
    "\n",
    "plt.xlabel('Certification Category')\n",
    "plt.ylabel('Number of Movies')\n",
    "plt.title('Number of Movies in Each Certification Category')\n",
    "plt.xticks(rotation=45, fontsize=12)  # Increase x-axis label font size\n",
    "plt.yticks(fontsize=12)  # Increase y-axis label font size\n",
    "plt.tight_layout()\n",
    "plt.show()"
   ]
  },
  {
   "cell_type": "code",
   "execution_count": 28,
   "id": "a171ec26",
   "metadata": {
    "hidden": true,
    "scrolled": true
   },
   "outputs": [
    {
     "data": {
      "image/png": "[encoded data removed]",
      "text/plain": [
       "<Figure size 1200x600 with 1 Axes>"
      ]
     },
     "metadata": {},
     "output_type": "display_data"
    }
   ],
   "source": [
    "import matplotlib.pyplot as plt\n",
    "import numpy as np\n",
    "\n",
    "# Sample data\n",
    "certifications = ['G', 'NR', 'PG', 'PG-13', 'R']\n",
    "average_revenue_millions = [117.3648, 17.66105, 110.6791, 99.28786, 30.02185]  # Average revenue in millions\n",
    "average_budget_millions = [38.13333, 10.14175, 44.82849, 42.99357, 18.75673]  # Average budget in millions\n",
    "\n",
    "# Create a figure and axis with specified size\n",
    "fig, ax = plt.subplots(figsize=(12, 6))\n",
    "\n",
    "# Define bar width and x-axis positions\n",
    "bar_width = 0.35\n",
    "index = np.arange(len(certifications))\n",
    "\n",
    "# Create grouped bar plots for average revenue and average budget\n",
    "bar1 = ax.bar(index - bar_width/2, average_revenue_millions, bar_width, label='Average Revenue', color='b', alpha=0.7)\n",
    "bar2 = ax.bar(index + bar_width/2, average_budget_millions, bar_width, label='Average Budget', color='g', alpha=0.7)\n",
    "\n",
    "# Add data labels above the bars\n",
    "for x, y1, y2 in zip(index, average_revenue_millions, average_budget_millions):\n",
    "    ax.text(x - bar_width/2, y1 + 2, f'{y1:.2f}M', ha='center', fontsize=12)\n",
    "    ax.text(x + bar_width/2, y2 + 2, f'{y2:.2f}M', ha='center', fontsize=12)\n",
    "\n",
    "# Set axis labels and title\n",
    "ax.set_xlabel('Certification Category')\n",
    "ax.set_ylabel('Amount (Millions)')\n",
    "ax.set_title('Average Revenue and Budget per Certification Category')\n",
    "\n",
    "# Customize tick positions and labels\n",
    "ax.set_xticks(index)\n",
    "ax.set_xticklabels(certifications)\n",
    "ax.legend()\n",
    "\n",
    "# Improve the layout and appearance\n",
    "plt.tight_layout()\n",
    "plt.grid(axis='y', linestyle='--', alpha=0.7)  # Add horizontal grid lines\n",
    "plt.show()\n"
   ]
  },
  {
   "cell_type": "markdown",
   "id": "c3b4f6ac",
   "metadata": {},
   "source": [
    "## Saving the concatenated DataFrame"
   ]
  },
  {
   "cell_type": "code",
   "execution_count": 29,
   "id": "923cc0dc",
   "metadata": {},
   "outputs": [],
   "source": [
    "# Save the concatenated DataFrame as a compressed CSV file\n",
    "concatenated_df.to_csv('tmdb_results_combined.csv.gz', compression='gzip', index=False)"
   ]
  }
 ],
 "metadata": {
  "kernelspec": {
   "display_name": "Python (dojo-env)",
   "language": "python",
   "name": "dojo-env"
  },
  "language_info": {
   "codemirror_mode": {
    "name": "ipython",
    "version": 3
   },
   "file_extension": ".py",
   "mimetype": "text/x-python",
   "name": "python",
   "nbconvert_exporter": "python",
   "pygments_lexer": "ipython3",
   "version": "3.9.15"
  },
  "toc": {
   "base_numbering": 1,
   "nav_menu": {},
   "number_sections": false,
   "sideBar": true,
   "skip_h1_title": false,
   "title_cell": "Table of Contents",
   "title_sidebar": "Contents",
   "toc_cell": false,
   "toc_position": {},
   "toc_section_display": true,
   "toc_window_display": false
  }
 },
 "nbformat": 4,
 "nbformat_minor": 5
}
