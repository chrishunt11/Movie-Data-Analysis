{
 "cells": [
  {
   "cell_type": "markdown",
   "id": "e41c9978",
   "metadata": {},
   "source": [
    "# Project 3: Part 1\n"
   ]
  },
  {
   "cell_type": "code",
   "execution_count": 1,
   "id": "9034c1a4",
   "metadata": {
    "scrolled": true
   },
   "outputs": [
    {
     "data": {
      "text/plain": [
       "['.ipynb_checkpoints',\n",
       " 'ratings_filtered.csv.gz',\n",
       " 'title-akas-us-only.csv',\n",
       " 'title.basics.tsv.gz',\n",
       " 'title.ratings.tsv.gz',\n",
       " 'title_basics.csv.gz',\n",
       " 'title_basics_filtered.csv.gz',\n",
       " 'tmdb_api_results_2000.json',\n",
       " 'tmdb_api_results_2001.json',\n",
       " 'tmdb_results_2000.csv.gz',\n",
       " 'tmdb_results_2001.csv.gz']"
      ]
     },
     "execution_count": 1,
     "metadata": {},
     "output_type": "execute_result"
    }
   ],
   "source": [
    "import os\n",
    "os.makedirs('Data/',exist_ok=True) # Confirm folder created\n",
    "os.listdir(\"Data/\")"
   ]
  },
  {
   "cell_type": "code",
   "execution_count": null,
   "id": "1679d9e5",
   "metadata": {},
   "outputs": [],
   "source": [
    "import pandas as pd\n",
    "import numpy as np\n",
    "\n",
    "# Load AKAs data\n",
    "akas_df = pd.read_csv('Data/title-akas-us-only.csv')\n",
    "\n",
    "# Keep only US movies\n",
    "akas_df = akas_df[akas_df['region'] == 'US']\n",
    "\n",
    "# Replace \"\\N\" with np.nan\n",
    "akas_df.replace({'\\\\N': np.nan}, inplace=True)"
   ]
  },
  {
   "cell_type": "code",
   "execution_count": null,
   "id": "7d52ae8a",
   "metadata": {},
   "outputs": [],
   "source": [
    "# Website Urls\n",
    "basics_url = 'https://datasets.imdbws.com/title.basics.tsv.gz'\n",
    "ratings_url = 'https://datasets.imdbws.com/title.ratings.tsv.gz'"
   ]
  },
  {
   "cell_type": "code",
   "execution_count": null,
   "id": "469b4346",
   "metadata": {},
   "outputs": [],
   "source": [
    "# Reading the Website Urls, not including us data\n",
    "basics = pd.read_csv(basics_url, sep='\\t', low_memory=False)\n",
    "ratings = pd.read_csv(ratings_url, sep='\\t', low_memory=False)"
   ]
  },
  {
   "cell_type": "code",
   "execution_count": null,
   "id": "0a4b280b",
   "metadata": {},
   "outputs": [],
   "source": [
    "# Load in the data\n",
    "title_basics_df = basics\n",
    "\n",
    "# Keep only US movies using AKAs table\n",
    "us_movie_ids = akas_df['titleId'].unique()\n",
    "title_basics_df = title_basics_df[title_basics_df['tconst'].isin(us_movie_ids)]\n",
    "\n",
    "# Replace \"\\N\" with np.nan (create a copy to avoid warning message)\n",
    "title_basics_df = title_basics_df.copy()\n",
    "title_basics_df.replace({'\\\\N': np.nan}, inplace=True)\n",
    "\n",
    "# Eliminate movies with null values (using .loc indexer)\n",
    "title_basics_df.dropna(subset=['runtimeMinutes', 'genres'], inplace=True)\n",
    "\n",
    "# Keep only titleType == 'Movie'\n",
    "title_basics_df = title_basics_df[title_basics_df['titleType'] == 'movie']\n",
    "\n",
    "# Convert startYear to float data type\n",
    "title_basics_df['startYear'] = title_basics_df['startYear'].astype(float)\n",
    "\n",
    "# Filter dataframe using startYear\n",
    "title_basics_df = title_basics_df[(title_basics_df['startYear'] >= 2000) & (title_basics_df['startYear'] <= 2021)]\n",
    "\n",
    "# Eliminate movies with \"Documentary\" genre\n",
    "title_basics_df = title_basics_df[~title_basics_df['genres'].str.contains(\"Documentary\")]"
   ]
  },
  {
   "cell_type": "code",
   "execution_count": null,
   "id": "c55c4dd8",
   "metadata": {},
   "outputs": [],
   "source": [
    "# Load Ratings data\n",
    "ratings_df = ratings.copy()\n",
    "\n",
    "# Keep only movies in final title basics dataframe\n",
    "final_movie_ids = title_basics_df['tconst'].unique()\n",
    "ratings_df = ratings_df[ratings_df['tconst'].isin(final_movie_ids)]\n",
    "\n",
    "# Replace \"\\N\" with np.nan (create a copy to avoid the warning)\n",
    "ratings_df.replace({'\\\\N': np.nan}, inplace=True)"
   ]
  },
  {
   "cell_type": "code",
   "execution_count": null,
   "id": "c16e86fb",
   "metadata": {},
   "outputs": [],
   "source": [
    "# Filter the basics table down to only include the US by using the filter akas dataframe\n",
    "keepers = title_basics_df['tconst'].isin(akas_df['titleId'])\n",
    "title_basics_df = title_basics_df[keepers]"
   ]
  },
  {
   "cell_type": "code",
   "execution_count": null,
   "id": "7126b505",
   "metadata": {},
   "outputs": [],
   "source": [
    "basics = title_basics_df[keepers]\n",
    "basics"
   ]
  },
  {
   "cell_type": "code",
   "execution_count": null,
   "id": "8cf8821a",
   "metadata": {
    "scrolled": true
   },
   "outputs": [],
   "source": [
    "# Save filtered dataframes\n",
    "title_basics_df.to_csv(\"Data/title_basics_filtered.csv.gz\", compression='gzip', index=False)\n",
    "ratings_df.to_csv(\"Data/ratings_filtered.csv.gz\", compression='gzip', index=False)\n",
    "\n",
    "# Display info summary\n",
    "print(\"Title Basics Info:\")\n",
    "print(title_basics_df.info())\n",
    "print(\"\\nRatings Info:\")\n",
    "print(ratings_df.info())"
   ]
  },
  {
   "cell_type": "code",
   "execution_count": null,
   "id": "634d36ff",
   "metadata": {},
   "outputs": [],
   "source": [
    "# Open saved file and preview again\n",
    "basics = pd.read_csv(\"Data/title_basics.csv.gz\", low_memory = False)\n",
    "basics.head()"
   ]
  },
  {
   "cell_type": "code",
   "execution_count": null,
   "id": "4f6098e6",
   "metadata": {},
   "outputs": [],
   "source": [
    "import pandas as pd\n",
    "\n",
    "# Merge basics and ratings dataframes on 'tconst'\n",
    "merged_df = pd.merge(basics, ratings, on='tconst')\n",
    "\n",
    "# Your existing code for data cleaning and formatting here\n",
    "\n",
    "# MPAA Rating and Revenue Analysis\n",
    "plt.figure(figsize=(10, 6))\n",
    "sns.boxplot(x='MPAA Rating', y='Revenue', data=merged_df)\n",
    "plt.title('MPAA Rating vs. Revenue')\n",
    "plt.xlabel('MPAA Rating')\n",
    "plt.ylabel('Revenue')\n",
    "plt.show()"
   ]
  },
  {
   "cell_type": "code",
   "execution_count": null,
   "id": "91116522",
   "metadata": {},
   "outputs": [],
   "source": []
  }
 ],
 "metadata": {
  "kernelspec": {
   "display_name": "Python (dojo-env)",
   "language": "python",
   "name": "dojo-env"
  },
  "language_info": {
   "codemirror_mode": {
    "name": "ipython",
    "version": 3
   },
   "file_extension": ".py",
   "mimetype": "text/x-python",
   "name": "python",
   "nbconvert_exporter": "python",
   "pygments_lexer": "ipython3",
   "version": "3.9.15"
  },
  "toc": {
   "base_numbering": 1,
   "nav_menu": {},
   "number_sections": false,
   "sideBar": true,
   "skip_h1_title": false,
   "title_cell": "Table of Contents",
   "title_sidebar": "Contents",
   "toc_cell": false,
   "toc_position": {},
   "toc_section_display": true,
   "toc_window_display": false
  }
 },
 "nbformat": 4,
 "nbformat_minor": 5
}
