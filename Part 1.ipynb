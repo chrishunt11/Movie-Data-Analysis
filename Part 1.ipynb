{
 "cells": [
  {
   "cell_type": "markdown",
   "id": "e41c9978",
   "metadata": {
    "heading_collapsed": true
   },
   "source": [
    "# Project 3: Part 1\n"
   ]
  },
  {
   "cell_type": "code",
   "execution_count": 1,
   "id": "9034c1a4",
   "metadata": {
    "hidden": true,
    "scrolled": true
   },
   "outputs": [
    {
     "data": {
      "text/plain": [
       "['.ipynb_checkpoints',\n",
       " 'title-akas-us-only.csv',\n",
       " 'title.basics.tsv.gz',\n",
       " 'title.ratings.tsv.gz',\n",
       " 'title_basics.csv.gz']"
      ]
     },
     "execution_count": 1,
     "metadata": {},
     "output_type": "execute_result"
    }
   ],
   "source": [
    "import os\n",
    "os.makedirs('Data/',exist_ok=True) # Confirm folder created\n",
    "os.listdir(\"Data/\")"
   ]
  },
  {
   "cell_type": "code",
   "execution_count": 2,
   "id": "1679d9e5",
   "metadata": {
    "hidden": true
   },
   "outputs": [
    {
     "name": "stderr",
     "output_type": "stream",
     "text": [
      "C:\\Users\\cjhun\\AppData\\Local\\Temp\\ipykernel_14284\\1455165960.py:5: DtypeWarning: Columns (7) have mixed types. Specify dtype option on import or set low_memory=False.\n",
      "  akas_df = pd.read_csv('Data/title-akas-us-only.csv')\n"
     ]
    }
   ],
   "source": [
    "import pandas as pd\n",
    "import numpy as np\n",
    "\n",
    "# Load AKAs data\n",
    "akas_df = pd.read_csv('Data/title-akas-us-only.csv')\n",
    "\n",
    "# Keep only US movies\n",
    "akas_df = akas_df[akas_df['region'] == 'US']\n",
    "\n",
    "# Replace \"\\N\" with np.nan\n",
    "akas_df.replace({'\\\\N': np.nan}, inplace=True)"
   ]
  },
  {
   "cell_type": "code",
   "execution_count": 5,
   "id": "7d52ae8a",
   "metadata": {
    "hidden": true
   },
   "outputs": [],
   "source": [
    "# Website Urls\n",
    "basics_url = 'https://datasets.imdbws.com/title.basics.tsv.gz'\n",
    "ratings_url = 'https://datasets.imdbws.com/title.ratings.tsv.gz'"
   ]
  },
  {
   "cell_type": "code",
   "execution_count": 6,
   "id": "469b4346",
   "metadata": {
    "hidden": true
   },
   "outputs": [],
   "source": [
    "# Reading the Website Urls, not including us data\n",
    "basics = pd.read_csv(basics_url, sep='\\t', low_memory=False)\n",
    "ratings = pd.read_csv(ratings_url, sep='\\t', low_memory=False)"
   ]
  },
  {
   "cell_type": "code",
   "execution_count": 8,
   "id": "0a4b280b",
   "metadata": {
    "hidden": true
   },
   "outputs": [],
   "source": [
    "# Load in the data\n",
    "title_basics_df = basics\n",
    "\n",
    "# Keep only US movies using AKAs table\n",
    "us_movie_ids = akas_df['titleId'].unique()\n",
    "title_basics_df = title_basics_df[title_basics_df['tconst'].isin(us_movie_ids)]\n",
    "\n",
    "# Replace \"\\N\" with np.nan (create a copy to avoid warning message)\n",
    "title_basics_df = title_basics_df.copy()\n",
    "title_basics_df.replace({'\\\\N': np.nan}, inplace=True)\n",
    "\n",
    "# Eliminate movies with null values (using .loc indexer)\n",
    "title_basics_df.dropna(subset=['runtimeMinutes', 'genres'], inplace=True)\n",
    "\n",
    "# Keep only titleType == 'Movie'\n",
    "title_basics_df = title_basics_df[title_basics_df['titleType'] == 'movie']\n",
    "\n",
    "# Convert startYear to float data type\n",
    "title_basics_df['startYear'] = title_basics_df['startYear'].astype(float)\n",
    "\n",
    "# Filter dataframe using startYear\n",
    "title_basics_df = title_basics_df[(title_basics_df['startYear'] >= 2000) & (title_basics_df['startYear'] <= 2021)]\n",
    "\n",
    "# Eliminate movies with \"Documentary\" genre\n",
    "title_basics_df = title_basics_df[~title_basics_df['genres'].str.contains(\"Documentary\")]"
   ]
  },
  {
   "cell_type": "code",
   "execution_count": 9,
   "id": "c55c4dd8",
   "metadata": {
    "hidden": true
   },
   "outputs": [],
   "source": [
    "# Load Ratings data\n",
    "ratings_df = ratings.copy()\n",
    "\n",
    "# Keep only movies in final title basics dataframe\n",
    "final_movie_ids = title_basics_df['tconst'].unique()\n",
    "ratings_df = ratings_df[ratings_df['tconst'].isin(final_movie_ids)]\n",
    "\n",
    "# Replace \"\\N\" with np.nan (create a copy to avoid the warning)\n",
    "ratings_df.replace({'\\\\N': np.nan}, inplace=True)"
   ]
  },
  {
   "cell_type": "code",
   "execution_count": 10,
   "id": "c16e86fb",
   "metadata": {
    "hidden": true
   },
   "outputs": [],
   "source": [
    "# Filter the basics table down to only include the US by using the filter akas dataframe\n",
    "keepers = title_basics_df['tconst'].isin(akas_df['titleId'])\n",
    "title_basics_df = title_basics_df[keepers]"
   ]
  },
  {
   "cell_type": "code",
   "execution_count": 11,
   "id": "7126b505",
   "metadata": {
    "hidden": true
   },
   "outputs": [
    {
     "data": {
      "text/html": [
       "<div>\n",
       "<style scoped>\n",
       "    .dataframe tbody tr th:only-of-type {\n",
       "        vertical-align: middle;\n",
       "    }\n",
       "\n",
       "    .dataframe tbody tr th {\n",
       "        vertical-align: top;\n",
       "    }\n",
       "\n",
       "    .dataframe thead th {\n",
       "        text-align: right;\n",
       "    }\n",
       "</style>\n",
       "<table border=\"1\" class=\"dataframe\">\n",
       "  <thead>\n",
       "    <tr style=\"text-align: right;\">\n",
       "      <th></th>\n",
       "      <th>tconst</th>\n",
       "      <th>titleType</th>\n",
       "      <th>primaryTitle</th>\n",
       "      <th>originalTitle</th>\n",
       "      <th>isAdult</th>\n",
       "      <th>startYear</th>\n",
       "      <th>endYear</th>\n",
       "      <th>runtimeMinutes</th>\n",
       "      <th>genres</th>\n",
       "    </tr>\n",
       "  </thead>\n",
       "  <tbody>\n",
       "    <tr>\n",
       "      <th>34800</th>\n",
       "      <td>tt0035423</td>\n",
       "      <td>movie</td>\n",
       "      <td>Kate &amp; Leopold</td>\n",
       "      <td>Kate &amp; Leopold</td>\n",
       "      <td>0</td>\n",
       "      <td>2001.0</td>\n",
       "      <td>NaN</td>\n",
       "      <td>118</td>\n",
       "      <td>Comedy,Fantasy,Romance</td>\n",
       "    </tr>\n",
       "    <tr>\n",
       "      <th>61112</th>\n",
       "      <td>tt0062336</td>\n",
       "      <td>movie</td>\n",
       "      <td>The Tango of the Widower and Its Distorting Mi...</td>\n",
       "      <td>El tango del viudo y su espejo deformante</td>\n",
       "      <td>0</td>\n",
       "      <td>2020.0</td>\n",
       "      <td>NaN</td>\n",
       "      <td>70</td>\n",
       "      <td>Drama</td>\n",
       "    </tr>\n",
       "    <tr>\n",
       "      <th>67486</th>\n",
       "      <td>tt0068865</td>\n",
       "      <td>movie</td>\n",
       "      <td>Lives of Performers</td>\n",
       "      <td>Lives of Performers</td>\n",
       "      <td>0</td>\n",
       "      <td>2016.0</td>\n",
       "      <td>NaN</td>\n",
       "      <td>90</td>\n",
       "      <td>Drama</td>\n",
       "    </tr>\n",
       "    <tr>\n",
       "      <th>67664</th>\n",
       "      <td>tt0069049</td>\n",
       "      <td>movie</td>\n",
       "      <td>The Other Side of the Wind</td>\n",
       "      <td>The Other Side of the Wind</td>\n",
       "      <td>0</td>\n",
       "      <td>2018.0</td>\n",
       "      <td>NaN</td>\n",
       "      <td>122</td>\n",
       "      <td>Drama</td>\n",
       "    </tr>\n",
       "    <tr>\n",
       "      <th>86791</th>\n",
       "      <td>tt0088751</td>\n",
       "      <td>movie</td>\n",
       "      <td>The Naked Monster</td>\n",
       "      <td>The Naked Monster</td>\n",
       "      <td>0</td>\n",
       "      <td>2005.0</td>\n",
       "      <td>NaN</td>\n",
       "      <td>100</td>\n",
       "      <td>Comedy,Horror,Sci-Fi</td>\n",
       "    </tr>\n",
       "    <tr>\n",
       "      <th>...</th>\n",
       "      <td>...</td>\n",
       "      <td>...</td>\n",
       "      <td>...</td>\n",
       "      <td>...</td>\n",
       "      <td>...</td>\n",
       "      <td>...</td>\n",
       "      <td>...</td>\n",
       "      <td>...</td>\n",
       "      <td>...</td>\n",
       "    </tr>\n",
       "    <tr>\n",
       "      <th>10102949</th>\n",
       "      <td>tt9914942</td>\n",
       "      <td>movie</td>\n",
       "      <td>Life Without Sara Amat</td>\n",
       "      <td>La vida sense la Sara Amat</td>\n",
       "      <td>0</td>\n",
       "      <td>2019.0</td>\n",
       "      <td>NaN</td>\n",
       "      <td>74</td>\n",
       "      <td>Drama</td>\n",
       "    </tr>\n",
       "    <tr>\n",
       "      <th>10103343</th>\n",
       "      <td>tt9915872</td>\n",
       "      <td>movie</td>\n",
       "      <td>The Last White Witch</td>\n",
       "      <td>Boku no kanojo wa mahoutsukai</td>\n",
       "      <td>0</td>\n",
       "      <td>2019.0</td>\n",
       "      <td>NaN</td>\n",
       "      <td>97</td>\n",
       "      <td>Comedy,Drama,Fantasy</td>\n",
       "    </tr>\n",
       "    <tr>\n",
       "      <th>10103483</th>\n",
       "      <td>tt9916170</td>\n",
       "      <td>movie</td>\n",
       "      <td>The Rehearsal</td>\n",
       "      <td>O Ensaio</td>\n",
       "      <td>0</td>\n",
       "      <td>2019.0</td>\n",
       "      <td>NaN</td>\n",
       "      <td>51</td>\n",
       "      <td>Drama</td>\n",
       "    </tr>\n",
       "    <tr>\n",
       "      <th>10103492</th>\n",
       "      <td>tt9916190</td>\n",
       "      <td>movie</td>\n",
       "      <td>Safeguard</td>\n",
       "      <td>Safeguard</td>\n",
       "      <td>0</td>\n",
       "      <td>2020.0</td>\n",
       "      <td>NaN</td>\n",
       "      <td>95</td>\n",
       "      <td>Action,Adventure,Thriller</td>\n",
       "    </tr>\n",
       "    <tr>\n",
       "      <th>10103576</th>\n",
       "      <td>tt9916362</td>\n",
       "      <td>movie</td>\n",
       "      <td>Coven</td>\n",
       "      <td>Akelarre</td>\n",
       "      <td>0</td>\n",
       "      <td>2020.0</td>\n",
       "      <td>NaN</td>\n",
       "      <td>92</td>\n",
       "      <td>Drama,History</td>\n",
       "    </tr>\n",
       "  </tbody>\n",
       "</table>\n",
       "<p>81889 rows × 9 columns</p>\n",
       "</div>"
      ],
      "text/plain": [
       "             tconst titleType  \\\n",
       "34800     tt0035423     movie   \n",
       "61112     tt0062336     movie   \n",
       "67486     tt0068865     movie   \n",
       "67664     tt0069049     movie   \n",
       "86791     tt0088751     movie   \n",
       "...             ...       ...   \n",
       "10102949  tt9914942     movie   \n",
       "10103343  tt9915872     movie   \n",
       "10103483  tt9916170     movie   \n",
       "10103492  tt9916190     movie   \n",
       "10103576  tt9916362     movie   \n",
       "\n",
       "                                               primaryTitle  \\\n",
       "34800                                        Kate & Leopold   \n",
       "61112     The Tango of the Widower and Its Distorting Mi...   \n",
       "67486                                   Lives of Performers   \n",
       "67664                            The Other Side of the Wind   \n",
       "86791                                     The Naked Monster   \n",
       "...                                                     ...   \n",
       "10102949                             Life Without Sara Amat   \n",
       "10103343                               The Last White Witch   \n",
       "10103483                                      The Rehearsal   \n",
       "10103492                                          Safeguard   \n",
       "10103576                                              Coven   \n",
       "\n",
       "                                      originalTitle isAdult  startYear  \\\n",
       "34800                                Kate & Leopold       0     2001.0   \n",
       "61112     El tango del viudo y su espejo deformante       0     2020.0   \n",
       "67486                           Lives of Performers       0     2016.0   \n",
       "67664                    The Other Side of the Wind       0     2018.0   \n",
       "86791                             The Naked Monster       0     2005.0   \n",
       "...                                             ...     ...        ...   \n",
       "10102949                 La vida sense la Sara Amat       0     2019.0   \n",
       "10103343              Boku no kanojo wa mahoutsukai       0     2019.0   \n",
       "10103483                                   O Ensaio       0     2019.0   \n",
       "10103492                                  Safeguard       0     2020.0   \n",
       "10103576                                   Akelarre       0     2020.0   \n",
       "\n",
       "         endYear runtimeMinutes                     genres  \n",
       "34800        NaN            118     Comedy,Fantasy,Romance  \n",
       "61112        NaN             70                      Drama  \n",
       "67486        NaN             90                      Drama  \n",
       "67664        NaN            122                      Drama  \n",
       "86791        NaN            100       Comedy,Horror,Sci-Fi  \n",
       "...          ...            ...                        ...  \n",
       "10102949     NaN             74                      Drama  \n",
       "10103343     NaN             97       Comedy,Drama,Fantasy  \n",
       "10103483     NaN             51                      Drama  \n",
       "10103492     NaN             95  Action,Adventure,Thriller  \n",
       "10103576     NaN             92              Drama,History  \n",
       "\n",
       "[81889 rows x 9 columns]"
      ]
     },
     "execution_count": 11,
     "metadata": {},
     "output_type": "execute_result"
    }
   ],
   "source": [
    "basics = title_basics_df[keepers]\n",
    "basics"
   ]
  },
  {
   "cell_type": "code",
   "execution_count": 12,
   "id": "8cf8821a",
   "metadata": {
    "hidden": true
   },
   "outputs": [
    {
     "name": "stdout",
     "output_type": "stream",
     "text": [
      "Title Basics Info:\n",
      "<class 'pandas.core.frame.DataFrame'>\n",
      "Int64Index: 81889 entries, 34800 to 10103576\n",
      "Data columns (total 9 columns):\n",
      " #   Column          Non-Null Count  Dtype  \n",
      "---  ------          --------------  -----  \n",
      " 0   tconst          81889 non-null  object \n",
      " 1   titleType       81889 non-null  object \n",
      " 2   primaryTitle    81889 non-null  object \n",
      " 3   originalTitle   81889 non-null  object \n",
      " 4   isAdult         81889 non-null  object \n",
      " 5   startYear       81889 non-null  float64\n",
      " 6   endYear         0 non-null      object \n",
      " 7   runtimeMinutes  81889 non-null  object \n",
      " 8   genres          81889 non-null  object \n",
      "dtypes: float64(1), object(8)\n",
      "memory usage: 6.2+ MB\n",
      "None\n",
      "\n",
      "Ratings Info:\n",
      "<class 'pandas.core.frame.DataFrame'>\n",
      "Int64Index: 68046 entries, 17882 to 1340938\n",
      "Data columns (total 3 columns):\n",
      " #   Column         Non-Null Count  Dtype  \n",
      "---  ------         --------------  -----  \n",
      " 0   tconst         68046 non-null  object \n",
      " 1   averageRating  68046 non-null  float64\n",
      " 2   numVotes       68046 non-null  int64  \n",
      "dtypes: float64(1), int64(1), object(1)\n",
      "memory usage: 2.1+ MB\n",
      "None\n"
     ]
    }
   ],
   "source": [
    "# Save filtered dataframes\n",
    "title_basics_df.to_csv(\"Data/title_basics_filtered.csv.gz\", compression='gzip', index=False)\n",
    "ratings_df.to_csv(\"Data/ratings_filtered.csv.gz\", compression='gzip', index=False)\n",
    "\n",
    "# Display info summary\n",
    "print(\"Title Basics Info:\")\n",
    "print(title_basics_df.info())\n",
    "print(\"\\nRatings Info:\")\n",
    "print(ratings_df.info())"
   ]
  },
  {
   "cell_type": "code",
   "execution_count": null,
   "id": "634d36ff",
   "metadata": {
    "hidden": true
   },
   "outputs": [],
   "source": [
    "# Open saved file and preview again\n",
    "basics = pd.read_csv(\"Data/title_basics.csv.gz\", low_memory = False)\n",
    "basics.head()"
   ]
  },
  {
   "cell_type": "code",
   "execution_count": null,
   "id": "4f6098e6",
   "metadata": {
    "hidden": true
   },
   "outputs": [],
   "source": []
  }
 ],
 "metadata": {
  "kernelspec": {
   "display_name": "Python (dojo-env)",
   "language": "python",
   "name": "dojo-env"
  },
  "language_info": {
   "codemirror_mode": {
    "name": "ipython",
    "version": 3
   },
   "file_extension": ".py",
   "mimetype": "text/x-python",
   "name": "python",
   "nbconvert_exporter": "python",
   "pygments_lexer": "ipython3",
   "version": "3.9.15"
  },
  "toc": {
   "base_numbering": 1,
   "nav_menu": {},
   "number_sections": false,
   "sideBar": true,
   "skip_h1_title": false,
   "title_cell": "Table of Contents",
   "title_sidebar": "Contents",
   "toc_cell": false,
   "toc_position": {},
   "toc_section_display": true,
   "toc_window_display": false
  }
 },
 "nbformat": 4,
 "nbformat_minor": 5
}
